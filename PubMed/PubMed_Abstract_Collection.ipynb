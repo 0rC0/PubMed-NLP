{
 "cells": [
  {
   "cell_type": "code",
   "execution_count": 10,
   "metadata": {
    "colab": {},
    "colab_type": "code",
    "id": "jRLbAx7MsqJF"
   },
   "outputs": [],
   "source": [
    "import pandas as pd\n",
    "import numpy as np\n",
    "import random\n",
    "import json\n",
    "import pprint"
   ]
  },
  {
   "cell_type": "code",
   "execution_count": 2,
   "metadata": {
    "colab": {},
    "colab_type": "code",
    "id": "TyXUntDesqJK"
   },
   "outputs": [],
   "source": [
    "from Bio import Entrez"
   ]
  },
  {
   "cell_type": "code",
   "execution_count": 3,
   "metadata": {
    "colab": {},
    "colab_type": "code",
    "id": "GeteRdn-sqJN"
   },
   "outputs": [],
   "source": [
    "from pymongo import MongoClient\n",
    "from pprint import pprint"
   ]
  },
  {
   "cell_type": "markdown",
   "metadata": {
    "colab_type": "text",
    "id": "aoMKrWUSsqJP"
   },
   "source": [
    "### Get Abstracts from Entrez API"
   ]
  },
  {
   "cell_type": "code",
   "execution_count": 4,
   "metadata": {
    "colab": {},
    "colab_type": "code",
    "id": "ylESZYYHsqJR"
   },
   "outputs": [],
   "source": [
    "Entrez.email = 'camelliahilker@gmail.com'\n",
    "abstracts=[]\n",
    "without_abstract = []"
   ]
  },
  {
   "cell_type": "code",
   "execution_count": 5,
   "metadata": {
    "colab": {},
    "colab_type": "code",
    "id": "tcAIVzb-sqJT"
   },
   "outputs": [],
   "source": [
    "pmids_raw = pd.read_csv('pubmed_result.txt', sep='\\n', header=None)\n",
    "pmids_raw = list(pmids_raw[0])"
   ]
  },
  {
   "cell_type": "markdown",
   "metadata": {},
   "source": [
    "#### There are over 15,000 IDs in the file, grab a random sample of 2,500"
   ]
  },
  {
   "cell_type": "code",
   "execution_count": 6,
   "metadata": {
    "colab": {},
    "colab_type": "code",
    "id": "yk9AVzw0sqJW",
    "scrolled": true
   },
   "outputs": [],
   "source": [
    "random.seed(42)\n",
    "pmids = random.sample(pmids_raw, 2500)"
   ]
  },
  {
   "cell_type": "code",
   "execution_count": 7,
   "metadata": {
    "colab": {},
    "colab_type": "code",
    "id": "nnTSTufvsqJZ"
   },
   "outputs": [],
   "source": [
    "handle = Entrez.efetch(db=\"pubmed\", id=','.join(map(str, pmids)),\n",
    "                       rettype=\"xml\", retmode=\"text\")\n",
    "records = Entrez.read(handle)"
   ]
  },
  {
   "cell_type": "code",
   "execution_count": 18,
   "metadata": {},
   "outputs": [
    {
     "name": "stdout",
     "output_type": "stream",
     "text": [
      "{'MedlineCitation': {'Article': {'Abstract': {'AbstractText': ['Colonic epithelial cells are covered by thick inner and outer mucus layers. The inner mucus layer is free of commensal microbiota, which contributes to the maintenance of gut homeostasis. In the small intestine, molecules critical for prevention of bacterial invasion into epithelia such as Paneth-cell-derived anti-microbial peptides and regenerating islet-derived 3 (RegIII) family proteins have been identified. Although there are mucus layers providing physical barriers against the large number of microbiota present in the large intestine, the mechanisms that separate bacteria and colonic epithelia are not fully elucidated. Here we show that Ly6/PLAUR domain containing 8 (Lypd8) protein prevents flagellated microbiota invading the colonic epithelia in mice. Lypd8, selectively expressed in epithelial cells at the uppermost layer of the large intestinal gland, was secreted into the lumen and bound flagellated bacteria including Proteus mirabilis. In the absence of Lypd8, bacteria were present in the inner mucus layer and many flagellated bacteria invaded epithelia. Lypd8(-/-) mice were highly sensitive to intestinal inflammation induced by dextran sulfate sodium (DSS). Antibiotic elimination of Gram-negative flagellated bacteria restored the bacterial-free state of the inner mucus layer and ameliorated DSS-induced intestinal inflammation in Lypd8(-/-) mice. Lypd8 bound to flagella and suppressed motility of flagellated bacteria. Thus, Lypd8 mediates segregation of intestinal bacteria and epithelial cells in the colon to preserve intestinal homeostasis. ']},\n",
      "                                 'ArticleDate': [{'Day': '30',\n",
      "                                                  'Month': '03',\n",
      "                                                  'Year': '2016'}],\n",
      "                                 'ArticleTitle': 'Lypd8 promotes the segregation of flagellated microbiota and colonic epithelia.',\n",
      "                                 'AuthorList': ListElement([DictElement({'Identifier': [], 'AffiliationInfo': [{'Identifier': [], 'Affiliation': 'Laboratory of Immune Regulation, Department of Microbiology and Immunology, Graduate School of Medicine, WPI Immunology Frontier Research Center, Osaka University, Suita, Osaka 565-0871, Japan.'}, {'Identifier': [], 'Affiliation': 'Core Research for Evolutional Science and Technology, Japan Agency for Medical Research and Development, Tokyo 100-0004, Japan.'}], 'LastName': 'Okumura', 'ForeName': 'Ryu', 'Initials': 'R'}, attributes={'ValidYN': 'Y'}), DictElement({'Identifier': [], 'AffiliationInfo': [{'Identifier': [], 'Affiliation': 'Laboratory of Immune Regulation, Department of Microbiology and Immunology, Graduate School of Medicine, WPI Immunology Frontier Research Center, Osaka University, Suita, Osaka 565-0871, Japan.'}], 'LastName': 'Kurakawa', 'ForeName': 'Takashi', 'Initials': 'T'}, attributes={'ValidYN': 'Y'}), DictElement({'Identifier': [], 'AffiliationInfo': [{'Identifier': [], 'Affiliation': 'Department of Microbiology and Infection Control, Osaka Medical College, Takatsuki, Osaka 569-8686, Japan.'}], 'LastName': 'Nakano', 'ForeName': 'Takashi', 'Initials': 'T'}, attributes={'ValidYN': 'Y'}), DictElement({'Identifier': [], 'AffiliationInfo': [{'Identifier': [], 'Affiliation': 'Laboratory of Immune Regulation, Department of Microbiology and Immunology, Graduate School of Medicine, WPI Immunology Frontier Research Center, Osaka University, Suita, Osaka 565-0871, Japan.'}, {'Identifier': [], 'Affiliation': 'Core Research for Evolutional Science and Technology, Japan Agency for Medical Research and Development, Tokyo 100-0004, Japan.'}], 'LastName': 'Kayama', 'ForeName': 'Hisako', 'Initials': 'H'}, attributes={'ValidYN': 'Y'}), DictElement({'Identifier': [], 'AffiliationInfo': [{'Identifier': [], 'Affiliation': 'Laboratory of Immune Regulation, Department of Microbiology and Immunology, Graduate School of Medicine, WPI Immunology Frontier Research Center, Osaka University, Suita, Osaka 565-0871, Japan.'}, {'Identifier': [], 'Affiliation': 'Core Research for Evolutional Science and Technology, Japan Agency for Medical Research and Development, Tokyo 100-0004, Japan.'}], 'LastName': 'Kinoshita', 'ForeName': 'Makoto', 'Initials': 'M'}, attributes={'ValidYN': 'Y'}), DictElement({'Identifier': [], 'AffiliationInfo': [{'Identifier': [], 'Affiliation': 'Department of Infection Metagenomics, Genome Information Research Center, Research Institute for Microbial Diseases, Osaka University, Suita, Osaka 565-0871, Japan.'}], 'LastName': 'Motooka', 'ForeName': 'Daisuke', 'Initials': 'D'}, attributes={'ValidYN': 'Y'}), DictElement({'Identifier': [], 'AffiliationInfo': [{'Identifier': [], 'Affiliation': 'Department of Infection Metagenomics, Genome Information Research Center, Research Institute for Microbial Diseases, Osaka University, Suita, Osaka 565-0871, Japan.'}, {'Identifier': [], 'Affiliation': 'Department of Bacteriology, Okayama University Graduate School of Medicine, Okayama 700-8558, Japan.'}], 'LastName': 'Gotoh', 'ForeName': 'Kazuyoshi', 'Initials': 'K'}, attributes={'ValidYN': 'Y'}), DictElement({'Identifier': [], 'AffiliationInfo': [{'Identifier': [], 'Affiliation': 'Laboratory of Immune Regulation, Department of Microbiology and Immunology, Graduate School of Medicine, WPI Immunology Frontier Research Center, Osaka University, Suita, Osaka 565-0871, Japan.'}], 'LastName': 'Kimura', 'ForeName': 'Taishi', 'Initials': 'T'}, attributes={'ValidYN': 'Y'}), DictElement({'Identifier': [], 'AffiliationInfo': [{'Identifier': [], 'Affiliation': 'Laboratory of Immune Regulation, Department of Microbiology and Immunology, Graduate School of Medicine, WPI Immunology Frontier Research Center, Osaka University, Suita, Osaka 565-0871, Japan.'}], 'LastName': 'Kamiyama', 'ForeName': 'Naganori', 'Initials': 'N'}, attributes={'ValidYN': 'Y'}), DictElement({'Identifier': [], 'AffiliationInfo': [{'Identifier': [], 'Affiliation': 'Laboratory of Immune Regulation, Department of Microbiology and Immunology, Graduate School of Medicine, WPI Immunology Frontier Research Center, Osaka University, Suita, Osaka 565-0871, Japan.'}], 'LastName': 'Kusu', 'ForeName': 'Takashi', 'Initials': 'T'}, attributes={'ValidYN': 'Y'}), DictElement({'Identifier': [], 'AffiliationInfo': [{'Identifier': [], 'Affiliation': 'Laboratory of Immune Regulation, Department of Microbiology and Immunology, Graduate School of Medicine, WPI Immunology Frontier Research Center, Osaka University, Suita, Osaka 565-0871, Japan.'}], 'LastName': 'Ueda', 'ForeName': 'Yoshiyasu', 'Initials': 'Y'}, attributes={'ValidYN': 'Y'}), DictElement({'Identifier': [], 'AffiliationInfo': [{'Identifier': [], 'Affiliation': 'Department of Microbiology and Infection Control, Osaka Medical College, Takatsuki, Osaka 569-8686, Japan.'}], 'LastName': 'Wu', 'ForeName': 'Hong', 'Initials': 'H'}, attributes={'ValidYN': 'Y'}), DictElement({'Identifier': [], 'AffiliationInfo': [{'Identifier': [], 'Affiliation': 'Department of Gastroenterology and Hepatology, Graduate School of Medicine, Osaka University, Osaka 565-0871, Japan.'}], 'LastName': 'Iijima', 'ForeName': 'Hideki', 'Initials': 'H'}, attributes={'ValidYN': 'Y'}), DictElement({'Identifier': [], 'AffiliationInfo': [{'Identifier': [], 'Affiliation': 'Laboratory of Immune Regulation, Department of Microbiology and Immunology, Graduate School of Medicine, WPI Immunology Frontier Research Center, Osaka University, Suita, Osaka 565-0871, Japan.'}, {'Identifier': [], 'Affiliation': 'Core Research for Evolutional Science and Technology, Japan Agency for Medical Research and Development, Tokyo 100-0004, Japan.'}], 'LastName': 'Barman', 'ForeName': 'Soumik', 'Initials': 'S'}, attributes={'ValidYN': 'Y'}), DictElement({'Identifier': [], 'AffiliationInfo': [{'Identifier': [], 'Affiliation': 'Department of Gastroenterological Surgery, Graduate School of Medicine, Osaka University, Osaka 565-0871, Japan.'}], 'LastName': 'Osawa', 'ForeName': 'Hideki', 'Initials': 'H'}, attributes={'ValidYN': 'Y'}), DictElement({'Identifier': [], 'AffiliationInfo': [{'Identifier': [], 'Affiliation': 'Department of Gastroenterological Surgery, Graduate School of Medicine, Osaka University, Osaka 565-0871, Japan.'}], 'LastName': 'Matsuno', 'ForeName': 'Hiroshi', 'Initials': 'H'}, attributes={'ValidYN': 'Y'}), DictElement({'Identifier': [], 'AffiliationInfo': [{'Identifier': [], 'Affiliation': 'Department of Gastroenterological Surgery, Graduate School of Medicine, Osaka University, Osaka 565-0871, Japan.'}], 'LastName': 'Nishimura', 'ForeName': 'Junichi', 'Initials': 'J'}, attributes={'ValidYN': 'Y'}), DictElement({'Identifier': [], 'AffiliationInfo': [{'Identifier': [], 'Affiliation': 'Department of Cell Physiology, Hokkaido University Graduate School of Medicine, Sapporo 060-8638, Japan.'}], 'LastName': 'Ohba', 'ForeName': 'Yusuke', 'Initials': 'Y'}, attributes={'ValidYN': 'Y'}), DictElement({'Identifier': [], 'AffiliationInfo': [{'Identifier': [], 'Affiliation': 'Department of Infection Metagenomics, Genome Information Research Center, Research Institute for Microbial Diseases, Osaka University, Suita, Osaka 565-0871, Japan.'}], 'LastName': 'Nakamura', 'ForeName': 'Shota', 'Initials': 'S'}, attributes={'ValidYN': 'Y'}), DictElement({'Identifier': [], 'AffiliationInfo': [{'Identifier': [], 'Affiliation': 'Department of Infection Metagenomics, Genome Information Research Center, Research Institute for Microbial Diseases, Osaka University, Suita, Osaka 565-0871, Japan.'}, {'Identifier': [], 'Affiliation': 'Department of Bacterial Infections, Research Institute for Microbial Diseases, Osaka University, Suita, Osaka 565-0871, Japan.'}], 'LastName': 'Iida', 'ForeName': 'Tetsuya', 'Initials': 'T'}, attributes={'ValidYN': 'Y'}), DictElement({'Identifier': [], 'AffiliationInfo': [{'Identifier': [], 'Affiliation': 'Laboratory of Immunoparasitology, Research Institute for Microbial Diseases, WPI Immunology Frontier Research Center, Osaka University, Suita, Osaka 565-0871, Japan.'}], 'LastName': 'Yamamoto', 'ForeName': 'Masahiro', 'Initials': 'M'}, attributes={'ValidYN': 'Y'}), DictElement({'Identifier': [], 'AffiliationInfo': [{'Identifier': [], 'Affiliation': 'Laboratory of Immune Regulation, Department of Microbiology and Immunology, Graduate School of Medicine, WPI Immunology Frontier Research Center, Osaka University, Suita, Osaka 565-0871, Japan.'}, {'Identifier': [], 'Affiliation': 'Core Research for Evolutional Science and Technology, Japan Agency for Medical Research and Development, Tokyo 100-0004, Japan.'}], 'LastName': 'Umemoto', 'ForeName': 'Eiji', 'Initials': 'E'}, attributes={'ValidYN': 'Y'}), DictElement({'Identifier': [], 'AffiliationInfo': [{'Identifier': [], 'Affiliation': 'Department of Microbiology and Infection Control, Osaka Medical College, Takatsuki, Osaka 569-8686, Japan.'}], 'LastName': 'Sano', 'ForeName': 'Koichi', 'Initials': 'K'}, attributes={'ValidYN': 'Y'}), DictElement({'Identifier': [], 'AffiliationInfo': [{'Identifier': [], 'Affiliation': 'Laboratory of Immune Regulation, Department of Microbiology and Immunology, Graduate School of Medicine, WPI Immunology Frontier Research Center, Osaka University, Suita, Osaka 565-0871, Japan.'}, {'Identifier': [], 'Affiliation': 'Core Research for Evolutional Science and Technology, Japan Agency for Medical Research and Development, Tokyo 100-0004, Japan.'}], 'LastName': 'Takeda', 'ForeName': 'Kiyoshi', 'Initials': 'K'}, attributes={'ValidYN': 'Y'})], attributes={'CompleteYN': 'Y'}),\n",
      "                                 'ELocationID': [StringElement('10.1038/nature17406', attributes={'EIdType': 'doi', 'ValidYN': 'Y'})],\n",
      "                                 'Journal': {'ISOAbbreviation': 'Nature',\n",
      "                                             'ISSN': StringElement('1476-4687', attributes={'IssnType': 'Electronic'}),\n",
      "                                             'JournalIssue': {'Issue': '7597',\n",
      "                                                              'PubDate': {'Day': '07',\n",
      "                                                                          'Month': 'Apr',\n",
      "                                                                          'Year': '2016'},\n",
      "                                                              'Volume': '532'},\n",
      "                                             'Title': 'Nature'},\n",
      "                                 'Language': ['eng'],\n",
      "                                 'Pagination': {'MedlinePgn': '117-21'},\n",
      "                                 'PublicationTypeList': [StringElement('Journal Article', attributes={'UI': 'D016428'}), StringElement(\"Research Support, Non-U.S. Gov't\", attributes={'UI': 'D013485'})]},\n",
      "                     'ChemicalList': [{'RegistryNumber': '0', 'NameOfSubstance': StringElement('GPI-Linked Proteins', attributes={'UI': 'D058851'})}, {'RegistryNumber': '0', 'NameOfSubstance': StringElement('LYPD8 protein, human', attributes={'UI': 'C000607339'})}, {'RegistryNumber': '0', 'NameOfSubstance': StringElement('Ly6-PLAUR domain containing 8 protein, mouse', attributes={'UI': 'C000607338'})}, {'RegistryNumber': '9042-14-2', 'NameOfSubstance': StringElement('Dextran Sulfate', attributes={'UI': 'D016264'})}],\n",
      "                     'CitationSubset': ['IM'],\n",
      "                     'DateCompleted': {'Day': '10',\n",
      "                                       'Month': '05',\n",
      "                                       'Year': '2016'},\n",
      "                     'DateRevised': {'Day': '02',\n",
      "                                     'Month': '12',\n",
      "                                     'Year': '2018'},\n",
      "                     'GeneralNote': [],\n",
      "                     'KeywordList': [],\n",
      "                     'MedlineJournalInfo': {'Country': 'England',\n",
      "                                            'ISSNLinking': '0028-0836',\n",
      "                                            'MedlineTA': 'Nature',\n",
      "                                            'NlmUniqueID': '0410462'},\n",
      "                     'MeshHeadingList': [{'QualifierName': [], 'DescriptorName': StringElement('Animals', attributes={'UI': 'D000818', 'MajorTopicYN': 'N'})}, {'QualifierName': [], 'DescriptorName': StringElement('Bacterial Adhesion', attributes={'UI': 'D001422', 'MajorTopicYN': 'N'})}, {'QualifierName': [], 'DescriptorName': StringElement('Caco-2 Cells', attributes={'UI': 'D018938', 'MajorTopicYN': 'N'})}, {'QualifierName': [], 'DescriptorName': StringElement('Cell Line', attributes={'UI': 'D002460', 'MajorTopicYN': 'N'})}, {'QualifierName': [StringElement('chemically induced', attributes={'UI': 'Q000139', 'MajorTopicYN': 'N'}), StringElement('drug therapy', attributes={'UI': 'Q000188', 'MajorTopicYN': 'N'}), StringElement('genetics', attributes={'UI': 'Q000235', 'MajorTopicYN': 'N'})], 'DescriptorName': StringElement('Colitis', attributes={'UI': 'D003092', 'MajorTopicYN': 'N'})}, {'QualifierName': [StringElement('microbiology', attributes={'UI': 'Q000382', 'MajorTopicYN': 'Y'})], 'DescriptorName': StringElement('Colon', attributes={'UI': 'D003106', 'MajorTopicYN': 'N'})}, {'QualifierName': [], 'DescriptorName': StringElement('Dextran Sulfate', attributes={'UI': 'D016264', 'MajorTopicYN': 'N'})}, {'QualifierName': [StringElement('microbiology', attributes={'UI': 'Q000382', 'MajorTopicYN': 'Y'})], 'DescriptorName': StringElement('Epithelium', attributes={'UI': 'D004848', 'MajorTopicYN': 'N'})}, {'QualifierName': [], 'DescriptorName': StringElement('Female', attributes={'UI': 'D005260', 'MajorTopicYN': 'N'})}, {'QualifierName': [], 'DescriptorName': StringElement('Flagella', attributes={'UI': 'D005407', 'MajorTopicYN': 'Y'})}, {'QualifierName': [StringElement('deficiency', attributes={'UI': 'Q000172', 'MajorTopicYN': 'N'}), StringElement('genetics', attributes={'UI': 'Q000235', 'MajorTopicYN': 'N'}), StringElement('metabolism', attributes={'UI': 'Q000378', 'MajorTopicYN': 'Y'})], 'DescriptorName': StringElement('GPI-Linked Proteins', attributes={'UI': 'D058851', 'MajorTopicYN': 'N'})}, {'QualifierName': [StringElement('drug effects', attributes={'UI': 'Q000187', 'MajorTopicYN': 'N'}), StringElement('metabolism', attributes={'UI': 'Q000378', 'MajorTopicYN': 'N'}), StringElement('pathogenicity', attributes={'UI': 'Q000472', 'MajorTopicYN': 'N'}), StringElement('physiology', attributes={'UI': 'Q000502', 'MajorTopicYN': 'Y'})], 'DescriptorName': StringElement('Gram-Negative Bacteria', attributes={'UI': 'D006090', 'MajorTopicYN': 'N'})}, {'QualifierName': [], 'DescriptorName': StringElement('Homeostasis', attributes={'UI': 'D006706', 'MajorTopicYN': 'N'})}, {'QualifierName': [], 'DescriptorName': StringElement('Humans', attributes={'UI': 'D006801', 'MajorTopicYN': 'N'})}, {'QualifierName': [StringElement('chemically induced', attributes={'UI': 'Q000139', 'MajorTopicYN': 'N'}), StringElement('drug therapy', attributes={'UI': 'Q000188', 'MajorTopicYN': 'N'}), StringElement('genetics', attributes={'UI': 'Q000235', 'MajorTopicYN': 'N'})], 'DescriptorName': StringElement('Inflammation', attributes={'UI': 'D007249', 'MajorTopicYN': 'N'})}, {'QualifierName': [StringElement('cytology', attributes={'UI': 'Q000166', 'MajorTopicYN': 'N'}), StringElement('metabolism', attributes={'UI': 'Q000378', 'MajorTopicYN': 'N'}), StringElement('microbiology', attributes={'UI': 'Q000382', 'MajorTopicYN': 'Y'})], 'DescriptorName': StringElement('Intestinal Mucosa', attributes={'UI': 'D007413', 'MajorTopicYN': 'N'})}, {'QualifierName': [], 'DescriptorName': StringElement('Male', attributes={'UI': 'D008297', 'MajorTopicYN': 'N'})}, {'QualifierName': [], 'DescriptorName': StringElement('Mice', attributes={'UI': 'D051379', 'MajorTopicYN': 'N'})}, {'QualifierName': [StringElement('drug effects', attributes={'UI': 'Q000187', 'MajorTopicYN': 'N'}), StringElement('metabolism', attributes={'UI': 'Q000378', 'MajorTopicYN': 'N'}), StringElement('pathogenicity', attributes={'UI': 'Q000472', 'MajorTopicYN': 'N'})], 'DescriptorName': StringElement('Proteus mirabilis', attributes={'UI': 'D011513', 'MajorTopicYN': 'N'})}, {'QualifierName': [], 'DescriptorName': StringElement('Symbiosis', attributes={'UI': 'D013559', 'MajorTopicYN': 'N'})}],\n",
      "                     'OtherAbstract': [],\n",
      "                     'OtherID': [],\n",
      "                     'PMID': StringElement('27027293', attributes={'Version': '1'}),\n",
      "                     'SpaceFlightMission': []},\n",
      " 'PubmedData': {'ArticleIdList': [StringElement('27027293', attributes={'IdType': 'pubmed'}), StringElement('nature17406', attributes={'IdType': 'pii'}), StringElement('10.1038/nature17406', attributes={'IdType': 'doi'})],\n",
      "                'History': [DictElement({'Year': '2015', 'Month': '03', 'Day': '06'}, attributes={'PubStatus': 'received'}), DictElement({'Year': '2016', 'Month': '02', 'Day': '05'}, attributes={'PubStatus': 'accepted'}), DictElement({'Year': '2016', 'Month': '3', 'Day': '31', 'Hour': '6', 'Minute': '0'}, attributes={'PubStatus': 'entrez'}), DictElement({'Year': '2016', 'Month': '3', 'Day': '31', 'Hour': '6', 'Minute': '0'}, attributes={'PubStatus': 'pubmed'}), DictElement({'Year': '2016', 'Month': '5', 'Day': '11', 'Hour': '6', 'Minute': '0'}, attributes={'PubStatus': 'medline'})],\n",
      "                'PublicationStatus': 'ppublish',\n",
      "                'ReferenceList': [{'Reference': [{'ArticleIdList': [StringElement('19653121', attributes={'IdType': 'pubmed'})],\n",
      "                                                  'Citation': 'Mol Biol Rep. 2010 Apr;37(4):2055-62'},\n",
      "                                                 {'ArticleIdList': [StringElement('11248802', attributes={'IdType': 'pubmed'})],\n",
      "                                                  'Citation': 'Nat Immunol. 2000 Aug;1(2):113-8'},\n",
      "                                                 {'ArticleIdList': [StringElement('18806221', attributes={'IdType': 'pubmed'})],\n",
      "                                                  'Citation': 'Proc Natl Acad Sci U S A. 2008 Sep 30;105(39):15064-9'},\n",
      "                                                 {'ArticleIdList': [StringElement('24566914', attributes={'IdType': 'pubmed'})],\n",
      "                                                  'Citation': 'Nat Rev Immunol. 2014 Mar;14(3):141-53'},\n",
      "                                                 {'ArticleIdList': [StringElement('9697844', attributes={'IdType': 'pubmed'})],\n",
      "                                                  'Citation': 'Immunity. 1998 Jul;9(1):143-50'},\n",
      "                                                 {'ArticleIdList': [StringElement('22863420', attributes={'IdType': 'pubmed'})],\n",
      "                                                  'Citation': 'Cell Host Microbe. 2012 Aug 16;12(2):139-52'},\n",
      "                                                 {'ArticleIdList': [StringElement('24237702', attributes={'IdType': 'pubmed'})],\n",
      "                                                  'Citation': 'Cell Host Microbe. 2013 Nov 13;14(5):571-81'},\n",
      "                                                 {'ArticleIdList': [StringElement('21407243', attributes={'IdType': 'pubmed'})],\n",
      "                                                  'Citation': 'Nat Rev Microbiol. 2011 Apr;9(4):265-78'},\n",
      "                                                 {'ArticleIdList': [StringElement('23186997', attributes={'IdType': 'pubmed'})],\n",
      "                                                  'Citation': 'BMB Rep. 2012 Nov;45(11):595-603'},\n",
      "                                                 {'ArticleIdList': [StringElement('19075245', attributes={'IdType': 'pubmed'})],\n",
      "                                                  'Citation': 'Proc Natl Acad Sci U S A. 2008 Dec 30;105(52):20858-63'},\n",
      "                                                 {'ArticleIdList': [StringElement('21998396', attributes={'IdType': 'pubmed'})],\n",
      "                                                  'Citation': 'Science. 2011 Oct 14;334(6053):255-8'},\n",
      "                                                 {'ArticleIdList': [StringElement('20955468', attributes={'IdType': 'pubmed'})],\n",
      "                                                  'Citation': 'FEMS Immunol Med Microbiol. 2011 Feb;61(1):1-14'},\n",
      "                                                 {'ArticleIdList': [StringElement('22349170', attributes={'IdType': 'pubmed'})],\n",
      "                                                  'Citation': 'Nat Rev Gastroenterol Hepatol. 2012 Feb 21;9(4):219-30'},\n",
      "                                                 {'ArticleIdList': [StringElement('15507117', attributes={'IdType': 'pubmed'})],\n",
      "                                                  'Citation': 'Genes Cells. 2004 Nov;9(11):1055-67'},\n",
      "                                                 {'ArticleIdList': [StringElement('10023769', attributes={'IdType': 'pubmed'})],\n",
      "                                                  'Citation': 'Immunity. 1999 Jan;10(1):39-49'},\n",
      "                                                 {'ArticleIdList': [StringElement('20833380', attributes={'IdType': 'pubmed'})],\n",
      "                                                  'Citation': 'Cell Host Microbe. 2010 Sep 16;8(3):292-300'},\n",
      "                                                 {'ArticleIdList': [StringElement('16931762', attributes={'IdType': 'pubmed'})],\n",
      "                                                  'Citation': 'Science. 2006 Aug 25;313(5790):1126-30'},\n",
      "                                                 {'ArticleIdList': [StringElement('21947475', attributes={'IdType': 'pubmed'})],\n",
      "                                                  'Citation': 'Cell Mol Life Sci. 2011 Nov;68(22):3635-41'},\n",
      "                                                 {'ArticleIdList': [StringElement('24256734', attributes={'IdType': 'pubmed'})],\n",
      "                                                  'Citation': 'Nature. 2014 Jan 2;505(7481):103-7'},\n",
      "                                                 {'ArticleIdList': [StringElement('22972296', attributes={'IdType': 'pubmed'})],\n",
      "                                                  'Citation': 'Nature. 2012 Sep 13;489(7415):231-41'},\n",
      "                                                 {'ArticleIdList': [StringElement('20615996', attributes={'IdType': 'pubmed'})],\n",
      "                                                  'Citation': 'Proc Natl Acad Sci U S A. 2011 Mar 15;108 Suppl 1:4659-65'}],\n",
      "                                   'ReferenceList': []}]}}\n"
     ]
    }
   ],
   "source": [
    "pprint.pprint(records['PubmedArticle'][0])"
   ]
  },
  {
   "cell_type": "code",
   "execution_count": 8,
   "metadata": {
    "colab": {},
    "colab_type": "code",
    "id": "JbTfPtAVsqJ0"
   },
   "outputs": [],
   "source": [
    "for pubmed_article in records['PubmedArticle']:\n",
    "    year = int(str(pubmed_article['MedlineCitation']['DateCompleted']['Year']))\n",
    "    journal = str(pubmed_article['MedlineCitation']['Article']['Journal']['Title'])\n",
    "    pmid = int(str(pubmed_article['MedlineCitation']['PMID']))\n",
    "    article = pubmed_article['MedlineCitation']['Article']\n",
    "    if 'Abstract' in article:\n",
    "        abstract = str(article['Abstract']['AbstractText'][0])\n",
    "        abstracts.append({'PMID':pmid, 'Abstract':abstract, 'Year':year, 'Journal':journal})\n",
    "    else:\n",
    "        without_abstract.append(pmid)"
   ]
  },
  {
   "cell_type": "code",
   "execution_count": 53,
   "metadata": {
    "colab": {},
    "colab_type": "code",
    "id": "m3a0uI0-sqJ3",
    "outputId": "9d0095dd-6625-43cb-a1b7-2f598f9a57cb",
    "scrolled": true
   },
   "outputs": [
    {
     "data": {
      "text/plain": [
       "0"
      ]
     },
     "execution_count": 53,
     "metadata": {},
     "output_type": "execute_result"
    }
   ],
   "source": [
    "len(without_abstract)"
   ]
  },
  {
   "cell_type": "code",
   "execution_count": 54,
   "metadata": {
    "colab": {},
    "colab_type": "code",
    "id": "7TxBQ3GOsqJ6",
    "outputId": "d0ebbb2e-94a1-4d71-e8b2-0495d42695d3",
    "scrolled": true
   },
   "outputs": [
    {
     "data": {
      "text/plain": [
       "2500"
      ]
     },
     "execution_count": 54,
     "metadata": {},
     "output_type": "execute_result"
    }
   ],
   "source": [
    "len(abstracts)"
   ]
  },
  {
   "cell_type": "code",
   "execution_count": 55,
   "metadata": {
    "colab": {},
    "colab_type": "code",
    "id": "aHADDG-AsqKB",
    "scrolled": false
   },
   "outputs": [
    {
     "data": {
      "text/plain": [
       "[{'PMID': 27027293,\n",
       "  'Abstract': 'Colonic epithelial cells are covered by thick inner and outer mucus layers. The inner mucus layer is free of commensal microbiota, which contributes to the maintenance of gut homeostasis. In the small intestine, molecules critical for prevention of bacterial invasion into epithelia such as Paneth-cell-derived anti-microbial peptides and regenerating islet-derived 3 (RegIII) family proteins have been identified. Although there are mucus layers providing physical barriers against the large number of microbiota present in the large intestine, the mechanisms that separate bacteria and colonic epithelia are not fully elucidated. Here we show that Ly6/PLAUR domain containing 8 (Lypd8) protein prevents flagellated microbiota invading the colonic epithelia in mice. Lypd8, selectively expressed in epithelial cells at the uppermost layer of the large intestinal gland, was secreted into the lumen and bound flagellated bacteria including Proteus mirabilis. In the absence of Lypd8, bacteria were present in the inner mucus layer and many flagellated bacteria invaded epithelia. Lypd8(-/-) mice were highly sensitive to intestinal inflammation induced by dextran sulfate sodium (DSS). Antibiotic elimination of Gram-negative flagellated bacteria restored the bacterial-free state of the inner mucus layer and ameliorated DSS-induced intestinal inflammation in Lypd8(-/-) mice. Lypd8 bound to flagella and suppressed motility of flagellated bacteria. Thus, Lypd8 mediates segregation of intestinal bacteria and epithelial cells in the colon to preserve intestinal homeostasis. ',\n",
       "  'Year': 2016,\n",
       "  'Journal': 'Nature'},\n",
       " {'PMID': 30092632,\n",
       "  'Abstract': 'Berry consumption has been associated with cardiovascular disease prevention in recent years. Atherosclerosis is one of the major causes of cardiovascular diseases. However, research on the prevention of atherosclerosis through consuming individual whole berries, specifically direct evidence, remains scarce. Therefore, further elucidating the role that berries play in the prevention of atherosclerosis is warranted. In this perspective, blueberries were selected to articulate research strategies for studying atheroprotective effects of berries. Studies from human subjects and various animal models are summarized. The mechanisms by which blueberries may act, through reducing oxidative stress, decreasing inflammation, improving endothelial dysfunction, regulating cholesterol accumulation and trafficking, along with potentially influencing gut microbiota, are also discussed. Blueberries contain high levels of polyphenolic compounds, which were widely indicated as major bioactive compounds. Nonetheless, the metabolites/catabolites after blueberry consumption, such as simple phenolic acids, rather than original compounds in berries, may be the actual in vivo bioactive compounds. Future research should focus on obtaining more direct evidence, preferably in humans, understanding of the mechanisms of action at the molecular level, and identifying bioactive compounds as well as which compounds act synergistically to convey health benefits. The research strategy discussed here may also be applied to the studies of other fruits and berries.',\n",
       "  'Year': 2018,\n",
       "  'Journal': 'Journal of agricultural and food chemistry'},\n",
       " {'PMID': 30723750,\n",
       "  'Abstract': \"Understanding the mechanisms underlying the pathogenesis of Sjögren's syndrome (SS) is crucially important in order to be able to discriminate the steps that lead to B cell transformation and promptly identify the patients at risk of lymphomagenesis. The aim of this narrative review is to describe the evidence concerning the role that infections or dysbiosis plays in the epigenetic control of gene expression in SS patients and their possible involvement in B cell lymphomagenesis.\",\n",
       "  'Year': 2019,\n",
       "  'Journal': 'Journal of immunology research'},\n",
       " {'PMID': 26378926,\n",
       "  'Abstract': 'Imbalance of the human gut microbiota in early childhood is suggested as a risk factor for immune-mediated disorders such as allergies. With the objective to modulate the intestinal microbiota, probiotic supplementation during infancy has been used for prevention of allergic diseases in infants, with variable success. However, not much is known about the long-term consequences of neonatal use of probiotics on the microbiota composition. The aim of this study was to assess the composition and microbial diversity in stool samples of infants at high-risk for atopic disease, from birth onwards to six years of age, who were treated with probiotics or placebo during the first year of life.',\n",
       "  'Year': 2016,\n",
       "  'Journal': 'PloS one'},\n",
       " {'PMID': 29124413,\n",
       "  'Abstract': \"Ticks are among the most significant human-biting ectoparasites and they play a major role in transmission of many pathogenic agents to humans. In the present study, three species of Hyalomma ticks, Hyalomma aegyptium, H. marginatum and H. excavatum, were examined for the presence of zoonotic bacteria, both male and female ticks alike. Examination of microbial diversity with tag-encoded pyrosequencing indicates that H. marginatum and H. excavatum were more diversity rich than H. aegyptium. Although numerous pathogenic and non-pathogenic bacterial genera were detected, including Acidovorax, Bacillus, Bacteroides, Bdellovibrio, Clostridium, Curvibacter, Escherichia, Flavobacterium, Limnohabitans, Paenibacillus, Ralstonia, Sarcina, Sediminibacterium, Segetibacter Stenotrophomonas and Variovorax, the predominant zoonotic bacteria represented in these ticks were genera Borrelia, Francisella, and Rickettsia. To the authors' knowledge, this work represents the first detection of Yersinia enterocolitica in the tick H. excavatum, raising questions regarding the vector competency of this tick, as well as associations of different disease representations perhaps through previously unforeseen routes of pathogen introduction. Likewise, similar questions are related to the presence of Legionella pneumophila in one H. excavatum sample.\",\n",
       "  'Year': 2018,\n",
       "  'Journal': 'Experimental & applied acarology'},\n",
       " {'PMID': 29273717,\n",
       "  'Abstract': 'Microbial communities are often composed by complex mixtures of multiple strains of the same species, characterized by a wide genomic and phenotypic variability. Computational methods able to identify, quantify and classify the different strains present in a sample are essential to fully exploit the potential of metagenomic sequencing in microbial ecology, with applications that range from the epidemiology of infectious diseases to the characterization of the dynamics of microbial colonization. Here we present a computational approach that uses the available genomic data to reconstruct complex strain profiles from metagenomic sequencing, quantifying the abundances of the different strains and cataloging them according to the population structure of the species. We validate the method on synthetic data sets and apply it to the characterization of the strain distribution of several important bacterial species in real samples, showing how its application provides novel insights on the structure and complexity of the microbiota.',\n",
       "  'Year': 2018,\n",
       "  'Journal': 'Nature communications'},\n",
       " {'PMID': 29382490,\n",
       "  'Abstract': 'In recent years, the use of high-throughput omics technologies has led to the rapid discovery of many candidate biomarkers. However, few of them have made the transition to the clinic. In this review, the promise of omics technologies to contribute to the process of biomarker development is described. An overview of the current state in this area is presented with examples of genomics, proteomics, transcriptomics, metabolomics and microbiomics biomarkers in the field of oncology, along with some proposed strategies to accelerate their validation and translation to improve the care of patients with neoplasms. The inherent complexity underlying neoplasms combined with the requirement of developing well-designed biomarker discovery processes based on omics technologies present a challenge for the effective development of biomarkers that may be useful in guiding therapies, addressing disease risks, and predicting clinical outcomes.',\n",
       "  'Year': 2019,\n",
       "  'Journal': 'Boletin medico del Hospital Infantil de Mexico'},\n",
       " {'PMID': 29907093,\n",
       "  'Abstract': 'Probiotics have been shown to be useful for the treatment of many disease conditions. These beneficial effects are believed to be mediated by change\\xa0in the composition of gut microbiota and modulation of the host immune responses. However, the available data on the effect of probiotics on these parameters are quite limited.',\n",
       "  'Year': 2018,\n",
       "  'Journal': 'BMC gastroenterology'},\n",
       " {'PMID': 26415028,\n",
       "  'Abstract': 'Progress in nutritional science, genetics, computer science, and behavioral economics can be leveraged to address the challenge of noncommunicable disease. This report highlights the connection between nutrition and the complex science of preventing disease and discusses the promotion of optimal metabolic health, building on input from several complementary disciplines. The discussion focuses on (1) the basic science of optimal metabolic health, including data from gene-diet interactions, microbiome, and epidemiological research in nutrition, with the goal of defining better targets and interventions, and (2) how nutrition, from pharma to lifestyle, can build on systems science to address complex issues. ',\n",
       "  'Year': 2015,\n",
       "  'Journal': 'Annals of the New York Academy of Sciences'},\n",
       " {'PMID': 30153231,\n",
       "  'Abstract': 'Nasopharyngeal colonization precedes infections caused by Streptococcus pneumoniae. A more detailed understanding of interactions between S. pneumoniae and the nasopharyngeal microbiota of children could inform strategies to prevent pneumococcal infections.',\n",
       "  'Year': 2019,\n",
       "  'Journal': 'The Pediatric infectious disease journal'},\n",
       " {'PMID': 26799684,\n",
       "  'Abstract': 'Eosinophilic esophagitis (EoE) is a chronic disease characterized clinically by symptoms of esophageal dysfunction and histologically by eosinophil-predominant inflammation. EoE is frequently associated with concomitant atopic diseases and immunoglobulin E (IgE) sensitization to food allergens in children as well as to aeroallergens and cross-reactive plant allergen components in adults. Patients with EoE respond well to elemental and empirical food elimination diets. Recent research has, however, indicated that the pathogenesis of EoE is distinct from IgE-mediated food allergy. In this review, we discuss the individual roles of epithelial barrier defects, dysregulated innate and adaptive immune responses, and of microbiota in the pathogenesis of EoE. Although food has been recognized as a trigger factor of EoE, the mechanism by which it initiates or facilitates eosinophilic inflammation appears to be largely independent of IgE and needs to be further investigated. Understanding the pathogenic role of food in EoE is a prerequisite for the development of specific diagnostic tools and targeted therapeutic procedures.',\n",
       "  'Year': 2017,\n",
       "  'Journal': 'Allergy'}]"
      ]
     },
     "execution_count": 55,
     "metadata": {},
     "output_type": "execute_result"
    }
   ],
   "source": [
    "abstracts[0:11]"
   ]
  },
  {
   "cell_type": "code",
   "execution_count": 56,
   "metadata": {},
   "outputs": [],
   "source": [
    "#Do not run unless you want to overwrite abstracts.json!\n",
    "#json.dump(abstracts, open(\"abstracts.json\",\"w\"))"
   ]
  },
  {
   "cell_type": "markdown",
   "metadata": {},
   "source": [
    "### Select Abstracts By Year"
   ]
  },
  {
   "cell_type": "markdown",
   "metadata": {},
   "source": [
    "2015-2019. 2014 doesn't have that many articles"
   ]
  },
  {
   "cell_type": "code",
   "execution_count": 57,
   "metadata": {},
   "outputs": [],
   "source": [
    "a_15 = []\n",
    "for ind,item in enumerate(abstracts):\n",
    "    for k,v in abstracts[ind].items():\n",
    "        if v == 2015:\n",
    "            a_15.append(item)\n",
    "            \n",
    "a_16 = []\n",
    "for ind,item in enumerate(abstracts):\n",
    "    for k,v in abstracts[ind].items():\n",
    "        if v == 2016:\n",
    "            a_16.append(item)\n",
    "            \n",
    "a_17 = []\n",
    "for ind,item in enumerate(abstracts):\n",
    "    for k,v in abstracts[ind].items():\n",
    "        if v == 2017:\n",
    "            a_17.append(item)\n",
    "            \n",
    "a_18 = []\n",
    "for ind,item in enumerate(abstracts):\n",
    "    for k,v in abstracts[ind].items():\n",
    "        if v == 2018:\n",
    "            a_18.append(item)\n",
    "\n",
    "a_19 = []\n",
    "for ind,item in enumerate(abstracts):\n",
    "    for k,v in abstracts[ind].items():\n",
    "        if v == 2019:\n",
    "            a_19.append(item)"
   ]
  },
  {
   "cell_type": "code",
   "execution_count": 58,
   "metadata": {
    "scrolled": true
   },
   "outputs": [
    {
     "name": "stdout",
     "output_type": "stream",
     "text": [
      "There are 220 articles from 2015\n",
      "There are 463 articles from 2016\n",
      "There are 622 articles from 2017\n",
      "There are 631 articles from 2018\n",
      "There are 547 articles from 2019\n"
     ]
    }
   ],
   "source": [
    "print('There are', len(a_15), 'articles from 2015')\n",
    "json.dump(a_15, open(\"a_15.json\",\"w\"))\n",
    "print('There are', len(a_16), 'articles from 2016')\n",
    "json.dump(a_16, open(\"a_16.json\",\"w\"))\n",
    "print('There are', len(a_17), 'articles from 2017')\n",
    "json.dump(a_17, open(\"a_17.json\",\"w\"))\n",
    "print('There are', len(a_18), 'articles from 2018')\n",
    "json.dump(a_18, open(\"a_18.json\",\"w\"))\n",
    "print('There are', len(a_19), 'articles from 2019')\n",
    "json.dump(a_19, open(\"a_19.json\",\"w\"))"
   ]
  },
  {
   "cell_type": "markdown",
   "metadata": {},
   "source": [
    "### I realized I maybe grabbed the wrong field for my \"journal\" key. Fixing it here:"
   ]
  },
  {
   "cell_type": "code",
   "execution_count": 31,
   "metadata": {},
   "outputs": [],
   "source": [
    "#grab id's that correspond to abstracts.json\n",
    "abstracts = json.load(open(\"abstracts.json\",\"r\"))\n",
    "ids = [abstracts[i].get('PMID') for i in range(len(abstracts))]"
   ]
  },
  {
   "cell_type": "code",
   "execution_count": 32,
   "metadata": {},
   "outputs": [],
   "source": [
    "handle = Entrez.efetch(db=\"pubmed\", id=','.join(map(str, ids)),\n",
    "                       rettype=\"xml\", retmode=\"text\")\n",
    "records = Entrez.read(handle)"
   ]
  },
  {
   "cell_type": "code",
   "execution_count": 33,
   "metadata": {},
   "outputs": [],
   "source": [
    "journal_fix = []\n",
    "for pubmed_article in records['PubmedArticle']:\n",
    "    journal_abbr = str(pubmed_article['MedlineCitation']['MedlineJournalInfo']['MedlineTA'])\n",
    "    pmid = int(str(pubmed_article['MedlineCitation']['PMID']))\n",
    "    journal_fix.append({'PMID':pmid, 'Abbreviation':journal_abbr})"
   ]
  },
  {
   "cell_type": "code",
   "execution_count": 34,
   "metadata": {},
   "outputs": [],
   "source": [
    "abbr = [journal_fix[i].get('Abbreviation') for i in range(len(journal_fix))]"
   ]
  },
  {
   "cell_type": "code",
   "execution_count": 36,
   "metadata": {
    "scrolled": false
   },
   "outputs": [
    {
     "data": {
      "text/plain": [
       "927"
      ]
     },
     "execution_count": 36,
     "metadata": {},
     "output_type": "execute_result"
    }
   ],
   "source": [
    "len(set(abbr))"
   ]
  },
  {
   "cell_type": "code",
   "execution_count": null,
   "metadata": {},
   "outputs": [],
   "source": []
  }
 ],
 "metadata": {
  "colab": {
   "name": "PubMed Abstract Collection.ipynb",
   "provenance": [],
   "version": "0.3.2"
  },
  "kernelspec": {
   "display_name": "metis",
   "language": "python",
   "name": "metis"
  },
  "language_info": {
   "codemirror_mode": {
    "name": "ipython",
    "version": 3
   },
   "file_extension": ".py",
   "mimetype": "text/x-python",
   "name": "python",
   "nbconvert_exporter": "python",
   "pygments_lexer": "ipython3",
   "version": "3.6.8"
  },
  "toc": {
   "base_numbering": 1,
   "nav_menu": {},
   "number_sections": true,
   "sideBar": true,
   "skip_h1_title": false,
   "title_cell": "Table of Contents",
   "title_sidebar": "Contents",
   "toc_cell": false,
   "toc_position": {},
   "toc_section_display": true,
   "toc_window_display": false
  },
  "varInspector": {
   "cols": {
    "lenName": 16,
    "lenType": 16,
    "lenVar": 40
   },
   "kernels_config": {
    "python": {
     "delete_cmd_postfix": "",
     "delete_cmd_prefix": "del ",
     "library": "var_list.py",
     "varRefreshCmd": "print(var_dic_list())"
    },
    "r": {
     "delete_cmd_postfix": ") ",
     "delete_cmd_prefix": "rm(",
     "library": "var_list.r",
     "varRefreshCmd": "cat(var_dic_list()) "
    }
   },
   "types_to_exclude": [
    "module",
    "function",
    "builtin_function_or_method",
    "instance",
    "_Feature"
   ],
   "window_display": false
  }
 },
 "nbformat": 4,
 "nbformat_minor": 1
}
