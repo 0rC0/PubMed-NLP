{
 "cells": [
  {
   "cell_type": "markdown",
   "metadata": {},
   "source": [
    "Bridge crossing\n",
    "\n",
    "N walkers need to cross a footbridge. Each person has a specific time it would take them to cross the bridge. Atmost two people can go together (and in that case, the time taken will be the maximum of the two). Also, they need a flashlight to cross and there is only one flashlight available.\n",
    "\n",
    "Given a list of times for the N walkers, compute the minimum time needed for the entire group to cross.\n",
    "\n",
    "For example, given [1,2,3]. 1 & 2 would cross (time taken = 2). 1 will come back with the flashlight (time taken = 1). 1 & 3 would cross (time taken =3). So a total of 2+1+3=6.\n",
    "\n",
    "This is a challenging problem. Your solution doesn't have to get the minimum time. Come up with some heuristic and compute the crossing time for it. Then see if you can improve your heuristic."
   ]
  },
  {
   "cell_type": "code",
   "execution_count": null,
   "metadata": {},
   "outputs": [],
   "source": []
  }
 ],
 "metadata": {
  "kernelspec": {
   "display_name": "metis",
   "language": "python",
   "name": "metis"
  },
  "language_info": {
   "codemirror_mode": {
    "name": "ipython",
    "version": 3
   },
   "file_extension": ".py",
   "mimetype": "text/x-python",
   "name": "python",
   "nbconvert_exporter": "python",
   "pygments_lexer": "ipython3",
   "version": "3.6.8"
  },
  "toc": {
   "base_numbering": 1,
   "nav_menu": {},
   "number_sections": true,
   "sideBar": true,
   "skip_h1_title": false,
   "title_cell": "Table of Contents",
   "title_sidebar": "Contents",
   "toc_cell": false,
   "toc_position": {},
   "toc_section_display": true,
   "toc_window_display": false
  },
  "varInspector": {
   "cols": {
    "lenName": 16,
    "lenType": 16,
    "lenVar": 40
   },
   "kernels_config": {
    "python": {
     "delete_cmd_postfix": "",
     "delete_cmd_prefix": "del ",
     "library": "var_list.py",
     "varRefreshCmd": "print(var_dic_list())"
    },
    "r": {
     "delete_cmd_postfix": ") ",
     "delete_cmd_prefix": "rm(",
     "library": "var_list.r",
     "varRefreshCmd": "cat(var_dic_list()) "
    }
   },
   "types_to_exclude": [
    "module",
    "function",
    "builtin_function_or_method",
    "instance",
    "_Feature"
   ],
   "window_display": false
  }
 },
 "nbformat": 4,
 "nbformat_minor": 2
}
